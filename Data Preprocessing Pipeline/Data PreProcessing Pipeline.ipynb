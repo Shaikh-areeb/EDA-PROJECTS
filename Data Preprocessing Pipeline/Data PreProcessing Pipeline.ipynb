{
 "cells": [
  {
   "cell_type": "code",
   "execution_count": 1,
   "id": "af16e4e1-aeb4-4651-8f5e-878c462c1b0b",
   "metadata": {},
   "outputs": [],
   "source": [
    "import pandas as pd\n",
    "import numpy as np \n",
    "from sklearn.preprocessing import StandardScaler"
   ]
  },
  {
   "cell_type": "code",
   "execution_count": 2,
   "id": "831bf9b2-f06e-4977-b223-f24897748f89",
   "metadata": {},
   "outputs": [],
   "source": [
    "def data_preprocessing_pipeline(data):\n",
    "    #Identify numeric and categorical features\n",
    "    numeric_features = data.select_dtypes(include=['float', 'int']).columns\n",
    "    categorical_features = data.select_dtypes(include=['object']).columns\n",
    "\n",
    "    #Handle missing values in numeric features\n",
    "    data[numeric_features] = data[numeric_features].fillna(data[numeric_features].mean())\n",
    "\n",
    "    #Detect and handle outliers in numeric features using IQR\n",
    "    for feature in numeric_features:\n",
    "        Q1 = data[feature].quantile(0.25)\n",
    "        Q3 = data[feature].quantile(0.75)\n",
    "        IQR = Q3 - Q1\n",
    "        lower_bound = Q1 - (1.5 * IQR)\n",
    "        upper_bound = Q3 + (1.5 * IQR)\n",
    "        data[feature] = np.where((data[feature] < lower_bound) | (data[feature] > upper_bound),\n",
    "                                 data[feature].mean(), data[feature])\n",
    "\n",
    "    #Normalize numeric features\n",
    "    scaler = StandardScaler()\n",
    "    scaled_data = scaler.fit_transform(data[numeric_features])\n",
    "    data[numeric_features] = scaler.transform(data[numeric_features])\n",
    "\n",
    "    #Handle missing values in categorical features\n",
    "    data[categorical_features] = data[categorical_features].fillna(data[categorical_features].mode().iloc[0])\n",
    "\n",
    "    return data"
   ]
  },
  {
   "cell_type": "code",
   "execution_count": 2,
   "id": "bf5ab97a-6a29-405a-b536-af651c0537e8",
   "metadata": {},
   "outputs": [
    {
     "name": "stdout",
     "output_type": "stream",
     "text": [
      "Collecting mplcursors\n",
      "  Downloading mplcursors-0.5.3.tar.gz (88 kB)\n",
      "     ---------------------------------------- 0.0/88.8 kB ? eta -:--:--\n",
      "     ------------- -------------------------- 30.7/88.8 kB ? eta -:--:--\n",
      "     ----------------- -------------------- 41.0/88.8 kB 495.5 kB/s eta 0:00:01\n",
      "     -------------------------- ----------- 61.4/88.8 kB 469.7 kB/s eta 0:00:01\n",
      "     -------------------------------------- 88.8/88.8 kB 456.8 kB/s eta 0:00:00\n",
      "  Installing build dependencies: started\n",
      "  Installing build dependencies: finished with status 'done'\n",
      "  Getting requirements to build wheel: started\n",
      "  Getting requirements to build wheel: finished with status 'done'\n",
      "  Preparing metadata (pyproject.toml): started\n",
      "  Preparing metadata (pyproject.toml): finished with status 'done'\n",
      "Requirement already satisfied: matplotlib!=3.7.1,>=3.1 in c:\\users\\areeb\\anaconda3\\lib\\site-packages (from mplcursors) (3.9.2)\n",
      "Requirement already satisfied: contourpy>=1.0.1 in c:\\users\\areeb\\anaconda3\\lib\\site-packages (from matplotlib!=3.7.1,>=3.1->mplcursors) (1.2.0)\n",
      "Requirement already satisfied: cycler>=0.10 in c:\\users\\areeb\\anaconda3\\lib\\site-packages (from matplotlib!=3.7.1,>=3.1->mplcursors) (0.11.0)\n",
      "Requirement already satisfied: fonttools>=4.22.0 in c:\\users\\areeb\\anaconda3\\lib\\site-packages (from matplotlib!=3.7.1,>=3.1->mplcursors) (4.25.0)\n",
      "Requirement already satisfied: kiwisolver>=1.3.1 in c:\\users\\areeb\\anaconda3\\lib\\site-packages (from matplotlib!=3.7.1,>=3.1->mplcursors) (1.4.4)\n",
      "Requirement already satisfied: numpy>=1.23 in c:\\users\\areeb\\anaconda3\\lib\\site-packages (from matplotlib!=3.7.1,>=3.1->mplcursors) (1.26.4)\n",
      "Requirement already satisfied: packaging>=20.0 in c:\\users\\areeb\\anaconda3\\lib\\site-packages (from matplotlib!=3.7.1,>=3.1->mplcursors) (23.1)\n",
      "Requirement already satisfied: pillow>=8 in c:\\users\\areeb\\anaconda3\\lib\\site-packages (from matplotlib!=3.7.1,>=3.1->mplcursors) (10.2.0)\n",
      "Requirement already satisfied: pyparsing>=2.3.1 in c:\\users\\areeb\\anaconda3\\lib\\site-packages (from matplotlib!=3.7.1,>=3.1->mplcursors) (3.0.9)\n",
      "Requirement already satisfied: python-dateutil>=2.7 in c:\\users\\areeb\\anaconda3\\lib\\site-packages (from matplotlib!=3.7.1,>=3.1->mplcursors) (2.8.2)\n",
      "Requirement already satisfied: six>=1.5 in c:\\users\\areeb\\anaconda3\\lib\\site-packages (from python-dateutil>=2.7->matplotlib!=3.7.1,>=3.1->mplcursors) (1.16.0)\n",
      "Building wheels for collected packages: mplcursors\n",
      "  Building wheel for mplcursors (pyproject.toml): started\n",
      "  Building wheel for mplcursors (pyproject.toml): finished with status 'done'\n",
      "  Created wheel for mplcursors: filename=mplcursors-0.5.3-py3-none-any.whl size=20742 sha256=9b686c9456fdf09027497749049bb638dde4caf39b7f8a7424836fc30fa2aaac\n",
      "  Stored in directory: c:\\users\\areeb\\appdata\\local\\pip\\cache\\wheels\\10\\b6\\58\\05d5160d055ea77855fc4324d32a33f9ddea3e5289f315e738\n",
      "Successfully built mplcursors\n",
      "Installing collected packages: mplcursors\n",
      "Successfully installed mplcursors-0.5.3\n"
     ]
    }
   ],
   "source": [
    "!pip install mplcursors"
   ]
  },
  {
   "cell_type": "code",
   "execution_count": 8,
   "id": "3ba10696-ab28-4905-897c-e8a1bf08b97b",
   "metadata": {},
   "outputs": [],
   "source": [
    "import pandas as pd\n",
    "import matplotlib.pyplot as plt\n",
    "import mplcursors\n",
    "\n",
    "# Sample DataFrame\n",
    "data = {'Product': ['A', 'B', 'C'], 'Sales': [23, 17, 35]}\n",
    "df = pd.DataFrame(data)\n",
    "\n",
    "import plotly.express as px"
   ]
  },
  {
   "cell_type": "code",
   "execution_count": null,
   "id": "66ed67ba-1ae3-49ce-a200-c23d08ed84ff",
   "metadata": {},
   "outputs": [],
   "source": [
    "px.bar(x = df['Product'], y = df['Sales'])"
   ]
  }
 ],
 "metadata": {
  "kernelspec": {
   "display_name": "Python 3 (ipykernel)",
   "language": "python",
   "name": "python3"
  },
  "language_info": {
   "codemirror_mode": {
    "name": "ipython",
    "version": 3
   },
   "file_extension": ".py",
   "mimetype": "text/x-python",
   "name": "python",
   "nbconvert_exporter": "python",
   "pygments_lexer": "ipython3",
   "version": "3.11.7"
  }
 },
 "nbformat": 4,
 "nbformat_minor": 5
}
